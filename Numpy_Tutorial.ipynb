{
  "nbformat": 4,
  "nbformat_minor": 0,
  "metadata": {
    "colab": {
      "provenance": [],
      "include_colab_link": true
    },
    "kernelspec": {
      "name": "python3",
      "display_name": "Python 3"
    },
    "language_info": {
      "name": "python"
    }
  },
  "cells": [
    {
      "cell_type": "markdown",
      "metadata": {
        "id": "view-in-github",
        "colab_type": "text"
      },
      "source": [
        "<a href=\"https://colab.research.google.com/github/rrpanda555/Numpy-Exercise-/blob/main/Numpy_Tutorial.ipynb\" target=\"_parent\"><img src=\"https://colab.research.google.com/assets/colab-badge.svg\" alt=\"Open In Colab\"/></a>"
      ]
    },
    {
      "cell_type": "markdown",
      "source": [
        "What is NumPy?\n",
        "\n",
        "NumPy (Numerical Python) is a powerful library used for:\n",
        "\n",
        "Fast numerical computations\n",
        "\n",
        "Handling large multi-dimensional arrays\n",
        "\n",
        "Useful in AI/ML, data analysis, and scientific computing\n",
        "\n"
      ],
      "metadata": {
        "id": "sPVqZpL_iwKw"
      }
    },
    {
      "cell_type": "code",
      "execution_count": 1,
      "metadata": {
        "id": "G8wgVbHDiZ9-"
      },
      "outputs": [],
      "source": [
        "import numpy as np"
      ]
    },
    {
      "cell_type": "code",
      "source": [
        "# Create a 1D array\n",
        "a = np.array([1, 2, 3])\n",
        "print(\"1D Array:\", a)\n",
        "\n",
        "# Create a 2D array (matrix)\n",
        "b = np.array([[1, 2], [3, 4],[10,12]])\n",
        "print(\"2D Array:\\n\", b)\n"
      ],
      "metadata": {
        "colab": {
          "base_uri": "https://localhost:8080/"
        },
        "id": "QIf5sOBsii_t",
        "outputId": "be1d322d-520b-4d14-be30-c6b524bf5727"
      },
      "execution_count": 2,
      "outputs": [
        {
          "output_type": "stream",
          "name": "stdout",
          "text": [
            "1D Array: [1 2 3]\n",
            "2D Array:\n",
            " [[ 1  2]\n",
            " [ 3  4]\n",
            " [10 12]]\n"
          ]
        }
      ]
    },
    {
      "cell_type": "code",
      "source": [
        "print(\"Shape:\", b.shape)\n",
        "print(\"Size:\", b.size)\n",
        "print(\"Datatype:\", b.dtype)\n"
      ],
      "metadata": {
        "colab": {
          "base_uri": "https://localhost:8080/"
        },
        "id": "YtrMOMztjGJ4",
        "outputId": "d6997c19-1ab8-4909-cb1c-d0a20c3cb56f"
      },
      "execution_count": 3,
      "outputs": [
        {
          "output_type": "stream",
          "name": "stdout",
          "text": [
            "Shape: (3, 2)\n",
            "Size: 6\n",
            "Datatype: int64\n"
          ]
        }
      ]
    },
    {
      "cell_type": "code",
      "source": [
        "zeros = np.zeros((2, 3))      # 2x3 array of zeros\n",
        "zeros\n"
      ],
      "metadata": {
        "colab": {
          "base_uri": "https://localhost:8080/"
        },
        "id": "AI7bgbaLjLwB",
        "outputId": "0fce107c-a502-49bb-d948-c8f44941e8d9"
      },
      "execution_count": 4,
      "outputs": [
        {
          "output_type": "execute_result",
          "data": {
            "text/plain": [
              "array([[0., 0., 0.],\n",
              "       [0., 0., 0.]])"
            ]
          },
          "metadata": {},
          "execution_count": 4
        }
      ]
    },
    {
      "cell_type": "code",
      "source": [
        "ones = np.ones((2, 3))\n",
        "ones"
      ],
      "metadata": {
        "colab": {
          "base_uri": "https://localhost:8080/"
        },
        "id": "k40oYMdsjQSg",
        "outputId": "f2695efb-8b07-4aef-e740-7cd8afe44a81"
      },
      "execution_count": 5,
      "outputs": [
        {
          "output_type": "execute_result",
          "data": {
            "text/plain": [
              "array([[1., 1., 1.],\n",
              "       [1., 1., 1.]])"
            ]
          },
          "metadata": {},
          "execution_count": 5
        }
      ]
    },
    {
      "cell_type": "code",
      "source": [
        "randoms = np.random.rand(2, 2)\n",
        "randoms"
      ],
      "metadata": {
        "colab": {
          "base_uri": "https://localhost:8080/"
        },
        "id": "zgmtahNUjgX7",
        "outputId": "e208e1c5-2e67-4c46-f80c-38a246830a15"
      },
      "execution_count": 6,
      "outputs": [
        {
          "output_type": "execute_result",
          "data": {
            "text/plain": [
              "array([[0.31629512, 0.64413119],\n",
              "       [0.94279136, 0.95137654]])"
            ]
          },
          "metadata": {},
          "execution_count": 6
        }
      ]
    },
    {
      "cell_type": "code",
      "source": [
        "range_array = np.arange(0, 10, 2)\n",
        "range_array"
      ],
      "metadata": {
        "colab": {
          "base_uri": "https://localhost:8080/"
        },
        "id": "PvIKiZxxjla8",
        "outputId": "472fc6cb-5c13-4c0b-f3aa-5263ec52a124"
      },
      "execution_count": 7,
      "outputs": [
        {
          "output_type": "execute_result",
          "data": {
            "text/plain": [
              "array([0, 2, 4, 6, 8])"
            ]
          },
          "metadata": {},
          "execution_count": 7
        }
      ]
    },
    {
      "cell_type": "code",
      "source": [
        "x = np.array([1, 2, 3])\n",
        "y = np.array([4, 5, 6])\n",
        "\n",
        "print(\"Addition:\", x + y)\n",
        "print(\"Multiplication:\", x * y)\n",
        "print(\"Dot Product:\", np.dot(x, y))\n"
      ],
      "metadata": {
        "colab": {
          "base_uri": "https://localhost:8080/"
        },
        "id": "-sgDP3wAj30S",
        "outputId": "d45b8604-a009-44aa-be73-a627042f1fa1"
      },
      "execution_count": 8,
      "outputs": [
        {
          "output_type": "stream",
          "name": "stdout",
          "text": [
            "Addition: [5 7 9]\n",
            "Multiplication: [ 4 10 18]\n",
            "Dot Product: 32\n"
          ]
        }
      ]
    },
    {
      "cell_type": "code",
      "source": [
        "arr = np.array([10, 20, 30, 40, 50])\n",
        "\n",
        "print(arr[0])      # First element\n",
        "print(arr[1:4])    # Slice from index 1 to 3\n"
      ],
      "metadata": {
        "colab": {
          "base_uri": "https://localhost:8080/"
        },
        "id": "V4TYM24kj6w5",
        "outputId": "72c4425f-f1e0-455e-83a7-c89e20951c25"
      },
      "execution_count": 9,
      "outputs": [
        {
          "output_type": "stream",
          "name": "stdout",
          "text": [
            "10\n",
            "[20 30 40]\n"
          ]
        }
      ]
    },
    {
      "cell_type": "code",
      "source": [
        "# 1D, 2D, 3D arrays\n",
        "a = np.array([1, 2, 3])\n",
        "b = np.array([[1, 2], [3, 4]])\n",
        "c = np.array([[[1], [2]], [[3], [4]]])\n",
        "\n",
        "print(\"1D:\", a)\n",
        "print(\"2D:\\n\", b)\n",
        "print(\"3D:\\n\", c)\n"
      ],
      "metadata": {
        "colab": {
          "base_uri": "https://localhost:8080/"
        },
        "id": "QzpqCnZYj_J3",
        "outputId": "5bbd632c-515e-40a8-fc8f-1420c67cbcc4"
      },
      "execution_count": 10,
      "outputs": [
        {
          "output_type": "stream",
          "name": "stdout",
          "text": [
            "1D: [1 2 3]\n",
            "2D:\n",
            " [[1 2]\n",
            " [3 4]]\n",
            "3D:\n",
            " [[[1]\n",
            "  [2]]\n",
            "\n",
            " [[3]\n",
            "  [4]]]\n"
          ]
        }
      ]
    },
    {
      "cell_type": "code",
      "source": [
        "np.random.randint(1, 10, (2, 3))"
      ],
      "metadata": {
        "colab": {
          "base_uri": "https://localhost:8080/"
        },
        "id": "3OZHYgdOkHFD",
        "outputId": "97c49c0b-8259-413e-85a8-373d57f30d68"
      },
      "execution_count": 11,
      "outputs": [
        {
          "output_type": "execute_result",
          "data": {
            "text/plain": [
              "array([[4, 1, 5],\n",
              "       [8, 5, 6]])"
            ]
          },
          "metadata": {},
          "execution_count": 11
        }
      ]
    },
    {
      "cell_type": "markdown",
      "source": [
        "Reshape & Flatten"
      ],
      "metadata": {
        "id": "--8-F8cbkiNI"
      }
    },
    {
      "cell_type": "code",
      "source": [
        "arr = np.array([[1, 2, 3], [4, 5, 6]])\n",
        "print(\"Reshape to 3x2:\\n\", arr.reshape(3, 2))\n",
        "print(\"Flatten:\", arr.flatten())\n"
      ],
      "metadata": {
        "colab": {
          "base_uri": "https://localhost:8080/"
        },
        "id": "RC0ZL6VbkNyG",
        "outputId": "ef4218fd-756c-4d1a-bd2c-2c318ad5b3dc"
      },
      "execution_count": 12,
      "outputs": [
        {
          "output_type": "stream",
          "name": "stdout",
          "text": [
            "Reshape to 3x2:\n",
            " [[1 2]\n",
            " [3 4]\n",
            " [5 6]]\n",
            "Flatten: [1 2 3 4 5 6]\n"
          ]
        }
      ]
    },
    {
      "cell_type": "code",
      "source": [
        "a = np.array([1, 2])\n",
        "b = np.array([3, 4])\n",
        "\n",
        "print(\"Vertical Stack:\\n\", np.vstack((a, b)))\n",
        "print(\"Horizontal Stack:\\n\", np.hstack((a, b)))\n"
      ],
      "metadata": {
        "colab": {
          "base_uri": "https://localhost:8080/"
        },
        "id": "AjqFLab4klea",
        "outputId": "71216bb7-fb33-40c6-961b-5b5727493347"
      },
      "execution_count": 13,
      "outputs": [
        {
          "output_type": "stream",
          "name": "stdout",
          "text": [
            "Vertical Stack:\n",
            " [[1 2]\n",
            " [3 4]]\n",
            "Horizontal Stack:\n",
            " [1 2 3 4]\n"
          ]
        }
      ]
    },
    {
      "cell_type": "code",
      "source": [
        "arr = np.array([10, 20, 30, 40, 50])\n",
        "print(\"Greater than 30:\", arr[arr > 30])\n"
      ],
      "metadata": {
        "colab": {
          "base_uri": "https://localhost:8080/"
        },
        "id": "zY-NkTFBkuo0",
        "outputId": "014b6650-2c10-4731-f0e8-2889e881955d"
      },
      "execution_count": 14,
      "outputs": [
        {
          "output_type": "stream",
          "name": "stdout",
          "text": [
            "Greater than 30: [40 50]\n"
          ]
        }
      ]
    },
    {
      "cell_type": "code",
      "source": [
        "##Useful NumPy Functions"
      ],
      "metadata": {
        "id": "7QsSSrHek2HS"
      },
      "execution_count": 15,
      "outputs": []
    },
    {
      "cell_type": "code",
      "source": [
        "arr = np.array([[1, 2, 3], [4, 5, 6]])\n",
        "\n",
        "print(\"Sum:\", np.sum(arr))\n",
        "print(\"Max:\", np.max(arr))\n",
        "print(\"Mean:\", np.mean(arr))\n",
        "print(\"Std Dev:\", np.std(arr))\n",
        "print(\"Argmax:\", np.argmax(arr))\n"
      ],
      "metadata": {
        "colab": {
          "base_uri": "https://localhost:8080/"
        },
        "id": "v8IJd_e3k_Ve",
        "outputId": "17f8a619-76e0-452c-941d-19994498dd7d"
      },
      "execution_count": 16,
      "outputs": [
        {
          "output_type": "stream",
          "name": "stdout",
          "text": [
            "Sum: 21\n",
            "Max: 6\n",
            "Mean: 3.5\n",
            "Std Dev: 1.707825127659933\n",
            "Argmax: 5\n"
          ]
        }
      ]
    },
    {
      "cell_type": "code",
      "source": [
        "a = np.array([[1], [2], [3]])\n",
        "b = np.array([10, 20, 30])\n",
        "\n",
        "# Automatically expands shapes to match\n",
        "print(\"Broadcasted Addition:\\n\", a + b)\n"
      ],
      "metadata": {
        "colab": {
          "base_uri": "https://localhost:8080/"
        },
        "id": "2jq-6rFwlCV9",
        "outputId": "b2017e70-67ab-408d-974d-c42717d967b8"
      },
      "execution_count": 17,
      "outputs": [
        {
          "output_type": "stream",
          "name": "stdout",
          "text": [
            "Broadcasted Addition:\n",
            " [[11 21 31]\n",
            " [12 22 32]\n",
            " [13 23 33]]\n"
          ]
        }
      ]
    },
    {
      "cell_type": "code",
      "source": [
        "# Q: Create a 3x3 matrix with values from 1 to 9 and find the sum of its diagonal\n",
        "mat = np.arange(1, 10).reshape(3, 3)\n",
        "print(\"Matrix:\\n\", mat)\n",
        "print(\"Diagonal Sum:\", np.trace(mat))\n"
      ],
      "metadata": {
        "colab": {
          "base_uri": "https://localhost:8080/"
        },
        "id": "xBhv4fvLlLMH",
        "outputId": "3e0add74-aaf6-441e-cdb3-6cb522e0edbd"
      },
      "execution_count": 18,
      "outputs": [
        {
          "output_type": "stream",
          "name": "stdout",
          "text": [
            "Matrix:\n",
            " [[1 2 3]\n",
            " [4 5 6]\n",
            " [7 8 9]]\n",
            "Diagonal Sum: 15\n"
          ]
        }
      ]
    },
    {
      "cell_type": "markdown",
      "source": [
        "Goal of the Code\n",
        "\n",
        "We're training an Artificial Neural Network (ANN) to learn the XOR logic gate, which cannot be solved by a single-layer perceptron (because it's not linearly separable). We’ll use Keras + TensorFlow for that."
      ],
      "metadata": {
        "id": "T7f3ltISqzYA"
      }
    },
    {
      "cell_type": "code",
      "source": [
        "import tensorflow as tf\n",
        "from tensorflow.keras.models import Sequential\n",
        "from tensorflow.keras.layers import Dense"
      ],
      "metadata": {
        "id": "U7Cg9A2-lYTr"
      },
      "execution_count": 19,
      "outputs": []
    },
    {
      "cell_type": "markdown",
      "source": [
        "tensorflow: The deep learning library used to build and train neural networks.\n",
        "\n",
        "Sequential: A linear stack of layers (input → hidden → output).\n",
        "\n",
        "Dense: Fully connected layer."
      ],
      "metadata": {
        "id": "1HJ4uaQfrDHb"
      }
    },
    {
      "cell_type": "code",
      "source": [
        "import numpy as np\n",
        "\n",
        "X = np.array([[0,0], [0,1], [1,0], [1,1]])  # Input data\n",
        "y = np.array([0, 1, 1, 0])                  # Output (XOR of inputs)\n"
      ],
      "metadata": {
        "id": "WaoE4A_fq6dY"
      },
      "execution_count": 20,
      "outputs": []
    },
    {
      "cell_type": "markdown",
      "source": [
        "XOR Truth Table (Explained for Slide)\n",
        "XOR stands for \"Exclusive OR\".\n",
        "\n",
        "It returns 1 if exactly one of the inputs is 1.\n",
        "\n",
        "Returns 0 if both inputs are the same (either 0 and 0 or 1 and 1).\n",
        "\n",
        "You can explain like this with bullet points:\n",
        "\n",
        "✅ Input: 0, 0 → Output: 0\n",
        "✅ Input: 0, 1 → Output: 1\n",
        "✅ Input: 1, 0 → Output: 1\n",
        "✅ Input: 1, 1 → Output: 0"
      ],
      "metadata": {
        "id": "h9dc0y9MrYOy"
      }
    },
    {
      "cell_type": "code",
      "source": [
        "##Build the ANN Model\n",
        "model = Sequential() #You're using a Sequential model, meaning layers will be added one after the other."
      ],
      "metadata": {
        "id": "Vd7j33IjrJcd"
      },
      "execution_count": 21,
      "outputs": []
    },
    {
      "cell_type": "code",
      "source": [
        "model.add(Dense(4, input_dim=2, activation='relu'))  # Hidden Layer\n"
      ],
      "metadata": {
        "colab": {
          "base_uri": "https://localhost:8080/"
        },
        "id": "oGAk0X29rkSG",
        "outputId": "c4091890-4ce4-4a82-997f-d75d6aee17fb"
      },
      "execution_count": 22,
      "outputs": [
        {
          "output_type": "stream",
          "name": "stderr",
          "text": [
            "/usr/local/lib/python3.11/dist-packages/keras/src/layers/core/dense.py:87: UserWarning: Do not pass an `input_shape`/`input_dim` argument to a layer. When using Sequential models, prefer using an `Input(shape)` object as the first layer in the model instead.\n",
            "  super().__init__(activity_regularizer=activity_regularizer, **kwargs)\n"
          ]
        }
      ]
    },
    {
      "cell_type": "markdown",
      "source": [
        "Dense(4): Adds 4 neurons in the hidden layer.\n",
        "\n",
        "input_dim=2: Input has 2 features (since each XOR input is a pair).\n",
        "\n",
        "activation='relu': ReLU introduces non-linearity.\n",
        "\n",
        "Why 4 neurons? Just a small hidden layer to learn patterns. Enough for XOR, which needs at least one hidden layer."
      ],
      "metadata": {
        "id": "p1Tzg7dDruoB"
      }
    },
    {
      "cell_type": "code",
      "source": [
        "model.add(Dense(1, activation='sigmoid'))\n"
      ],
      "metadata": {
        "id": "HKssVe_urtdo"
      },
      "execution_count": 23,
      "outputs": []
    },
    {
      "cell_type": "markdown",
      "source": [
        "Dense(1): Output layer has 1 neuron (since XOR gives 0 or 1).\n",
        "\n",
        "activation='sigmoid': Good for binary classification (outputs between 0 and 1)."
      ],
      "metadata": {
        "id": "RBqxhhyusMGs"
      }
    },
    {
      "cell_type": "code",
      "source": [
        "model.compile(loss='binary_crossentropy', optimizer='adam', metrics=['accuracy'])\n",
        "model.fit(X, y, epochs=500, verbose=0)\n"
      ],
      "metadata": {
        "colab": {
          "base_uri": "https://localhost:8080/"
        },
        "id": "-5R7mICXsJXM",
        "outputId": "6ab3aa53-86ec-4134-881c-953e4482aafc"
      },
      "execution_count": 24,
      "outputs": [
        {
          "output_type": "execute_result",
          "data": {
            "text/plain": [
              "<keras.src.callbacks.history.History at 0x7c180f8d2810>"
            ]
          },
          "metadata": {},
          "execution_count": 24
        }
      ]
    },
    {
      "cell_type": "markdown",
      "source": [
        "compile() → tells the model how to learn\n",
        "\n",
        "fit() → trains the model using input and output data\n",
        "\n",
        "loss → measures error\n",
        "\n",
        "optimizer → adjusts weights\n",
        "\n",
        "metrics → tracks performance\n",
        "\n",
        "epochs → how many times to train\n",
        "\n",
        "verbose → shows training output\n"
      ],
      "metadata": {
        "id": "kNiACiPjtsdj"
      }
    },
    {
      "cell_type": "code",
      "source": [],
      "metadata": {
        "id": "h9N1xuq7t0pd"
      },
      "execution_count": 24,
      "outputs": []
    }
  ]
}